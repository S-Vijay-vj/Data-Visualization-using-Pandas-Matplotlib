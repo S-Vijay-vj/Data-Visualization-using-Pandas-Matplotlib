{
  "nbformat": 4,
  "nbformat_minor": 0,
  "metadata": {
    "colab": {
      "provenance": [],
      "collapsed_sections": []
    },
    "kernelspec": {
      "name": "python3",
      "display_name": "Python 3"
    },
    "language_info": {
      "name": "python"
    }
  },
  "cells": [
    {
      "cell_type": "markdown",
      "source": [
        "# DATA VISUALIZATION USING PANDAS AND MATPLOTLIB.\n",
        "\n",
        "\n",
        "---\n",
        "---\n"
      ],
      "metadata": {
        "id": "SyLpTrmk7XWN"
      }
    },
    {
      "cell_type": "markdown",
      "source": [
        "## Importing pandas and matplotlib library"
      ],
      "metadata": {
        "id": "ZWpL449X7q9j"
      }
    },
    {
      "cell_type": "code",
      "source": [
        "import pandas as pd\n",
        "import matplotlib.pyplot as plt\n"
      ],
      "metadata": {
        "id": "CA1q8hBTBn97"
      },
      "execution_count": 37,
      "outputs": []
    },
    {
      "cell_type": "markdown",
      "source": [
        "## Importing csv file"
      ],
      "metadata": {
        "id": "IzFou2vqB5R2"
      }
    },
    {
      "cell_type": "code",
      "source": [
        "df=pd.read_csv('India_GDP_Data.csv')"
      ],
      "metadata": {
        "id": "i-PpT49j3Pnf"
      },
      "execution_count": 38,
      "outputs": []
    },
    {
      "cell_type": "code",
      "source": [
        "df"
      ],
      "metadata": {
        "colab": {
          "base_uri": "https://localhost:8080/",
          "height": 424
        },
        "id": "kr6XgM5o7G3Y",
        "outputId": "5579c711-57b8-40d7-f323-d0a04c8c701c"
      },
      "execution_count": 39,
      "outputs": [
        {
          "output_type": "execute_result",
          "data": {
            "text/plain": [
              "    Year  GDP_In_Billion_USD  Per_Capita_in_USD  Percentage_Growth \n",
              "0   2021             3173.40               2277                8.95\n",
              "1   2020             2667.69               1933               -6.60\n",
              "2   2019             2831.55               2072                3.74\n",
              "3   2018             2702.93               1998                6.45\n",
              "4   2017             2651.47               1981                6.80\n",
              "..   ...                 ...                ...                 ...\n",
              "56  1965               59.55                119               -2.64\n",
              "57  1964               56.48                116                7.45\n",
              "58  1963               48.42                101                5.99\n",
              "59  1962               42.16                 90                2.93\n",
              "60  1961               39.23                 85                3.72\n",
              "\n",
              "[61 rows x 4 columns]"
            ],
            "text/html": [
              "\n",
              "  <div id=\"df-21d6319c-ea75-4af7-8702-6a8e62b98260\">\n",
              "    <div class=\"colab-df-container\">\n",
              "      <div>\n",
              "<style scoped>\n",
              "    .dataframe tbody tr th:only-of-type {\n",
              "        vertical-align: middle;\n",
              "    }\n",
              "\n",
              "    .dataframe tbody tr th {\n",
              "        vertical-align: top;\n",
              "    }\n",
              "\n",
              "    .dataframe thead th {\n",
              "        text-align: right;\n",
              "    }\n",
              "</style>\n",
              "<table border=\"1\" class=\"dataframe\">\n",
              "  <thead>\n",
              "    <tr style=\"text-align: right;\">\n",
              "      <th></th>\n",
              "      <th>Year</th>\n",
              "      <th>GDP_In_Billion_USD</th>\n",
              "      <th>Per_Capita_in_USD</th>\n",
              "      <th>Percentage_Growth</th>\n",
              "    </tr>\n",
              "  </thead>\n",
              "  <tbody>\n",
              "    <tr>\n",
              "      <th>0</th>\n",
              "      <td>2021</td>\n",
              "      <td>3173.40</td>\n",
              "      <td>2277</td>\n",
              "      <td>8.95</td>\n",
              "    </tr>\n",
              "    <tr>\n",
              "      <th>1</th>\n",
              "      <td>2020</td>\n",
              "      <td>2667.69</td>\n",
              "      <td>1933</td>\n",
              "      <td>-6.60</td>\n",
              "    </tr>\n",
              "    <tr>\n",
              "      <th>2</th>\n",
              "      <td>2019</td>\n",
              "      <td>2831.55</td>\n",
              "      <td>2072</td>\n",
              "      <td>3.74</td>\n",
              "    </tr>\n",
              "    <tr>\n",
              "      <th>3</th>\n",
              "      <td>2018</td>\n",
              "      <td>2702.93</td>\n",
              "      <td>1998</td>\n",
              "      <td>6.45</td>\n",
              "    </tr>\n",
              "    <tr>\n",
              "      <th>4</th>\n",
              "      <td>2017</td>\n",
              "      <td>2651.47</td>\n",
              "      <td>1981</td>\n",
              "      <td>6.80</td>\n",
              "    </tr>\n",
              "    <tr>\n",
              "      <th>...</th>\n",
              "      <td>...</td>\n",
              "      <td>...</td>\n",
              "      <td>...</td>\n",
              "      <td>...</td>\n",
              "    </tr>\n",
              "    <tr>\n",
              "      <th>56</th>\n",
              "      <td>1965</td>\n",
              "      <td>59.55</td>\n",
              "      <td>119</td>\n",
              "      <td>-2.64</td>\n",
              "    </tr>\n",
              "    <tr>\n",
              "      <th>57</th>\n",
              "      <td>1964</td>\n",
              "      <td>56.48</td>\n",
              "      <td>116</td>\n",
              "      <td>7.45</td>\n",
              "    </tr>\n",
              "    <tr>\n",
              "      <th>58</th>\n",
              "      <td>1963</td>\n",
              "      <td>48.42</td>\n",
              "      <td>101</td>\n",
              "      <td>5.99</td>\n",
              "    </tr>\n",
              "    <tr>\n",
              "      <th>59</th>\n",
              "      <td>1962</td>\n",
              "      <td>42.16</td>\n",
              "      <td>90</td>\n",
              "      <td>2.93</td>\n",
              "    </tr>\n",
              "    <tr>\n",
              "      <th>60</th>\n",
              "      <td>1961</td>\n",
              "      <td>39.23</td>\n",
              "      <td>85</td>\n",
              "      <td>3.72</td>\n",
              "    </tr>\n",
              "  </tbody>\n",
              "</table>\n",
              "<p>61 rows × 4 columns</p>\n",
              "</div>\n",
              "      <button class=\"colab-df-convert\" onclick=\"convertToInteractive('df-21d6319c-ea75-4af7-8702-6a8e62b98260')\"\n",
              "              title=\"Convert this dataframe to an interactive table.\"\n",
              "              style=\"display:none;\">\n",
              "        \n",
              "  <svg xmlns=\"http://www.w3.org/2000/svg\" height=\"24px\"viewBox=\"0 0 24 24\"\n",
              "       width=\"24px\">\n",
              "    <path d=\"M0 0h24v24H0V0z\" fill=\"none\"/>\n",
              "    <path d=\"M18.56 5.44l.94 2.06.94-2.06 2.06-.94-2.06-.94-.94-2.06-.94 2.06-2.06.94zm-11 1L8.5 8.5l.94-2.06 2.06-.94-2.06-.94L8.5 2.5l-.94 2.06-2.06.94zm10 10l.94 2.06.94-2.06 2.06-.94-2.06-.94-.94-2.06-.94 2.06-2.06.94z\"/><path d=\"M17.41 7.96l-1.37-1.37c-.4-.4-.92-.59-1.43-.59-.52 0-1.04.2-1.43.59L10.3 9.45l-7.72 7.72c-.78.78-.78 2.05 0 2.83L4 21.41c.39.39.9.59 1.41.59.51 0 1.02-.2 1.41-.59l7.78-7.78 2.81-2.81c.8-.78.8-2.07 0-2.86zM5.41 20L4 18.59l7.72-7.72 1.47 1.35L5.41 20z\"/>\n",
              "  </svg>\n",
              "      </button>\n",
              "      \n",
              "  <style>\n",
              "    .colab-df-container {\n",
              "      display:flex;\n",
              "      flex-wrap:wrap;\n",
              "      gap: 12px;\n",
              "    }\n",
              "\n",
              "    .colab-df-convert {\n",
              "      background-color: #E8F0FE;\n",
              "      border: none;\n",
              "      border-radius: 50%;\n",
              "      cursor: pointer;\n",
              "      display: none;\n",
              "      fill: #1967D2;\n",
              "      height: 32px;\n",
              "      padding: 0 0 0 0;\n",
              "      width: 32px;\n",
              "    }\n",
              "\n",
              "    .colab-df-convert:hover {\n",
              "      background-color: #E2EBFA;\n",
              "      box-shadow: 0px 1px 2px rgba(60, 64, 67, 0.3), 0px 1px 3px 1px rgba(60, 64, 67, 0.15);\n",
              "      fill: #174EA6;\n",
              "    }\n",
              "\n",
              "    [theme=dark] .colab-df-convert {\n",
              "      background-color: #3B4455;\n",
              "      fill: #D2E3FC;\n",
              "    }\n",
              "\n",
              "    [theme=dark] .colab-df-convert:hover {\n",
              "      background-color: #434B5C;\n",
              "      box-shadow: 0px 1px 3px 1px rgba(0, 0, 0, 0.15);\n",
              "      filter: drop-shadow(0px 1px 2px rgba(0, 0, 0, 0.3));\n",
              "      fill: #FFFFFF;\n",
              "    }\n",
              "  </style>\n",
              "\n",
              "      <script>\n",
              "        const buttonEl =\n",
              "          document.querySelector('#df-21d6319c-ea75-4af7-8702-6a8e62b98260 button.colab-df-convert');\n",
              "        buttonEl.style.display =\n",
              "          google.colab.kernel.accessAllowed ? 'block' : 'none';\n",
              "\n",
              "        async function convertToInteractive(key) {\n",
              "          const element = document.querySelector('#df-21d6319c-ea75-4af7-8702-6a8e62b98260');\n",
              "          const dataTable =\n",
              "            await google.colab.kernel.invokeFunction('convertToInteractive',\n",
              "                                                     [key], {});\n",
              "          if (!dataTable) return;\n",
              "\n",
              "          const docLinkHtml = 'Like what you see? Visit the ' +\n",
              "            '<a target=\"_blank\" href=https://colab.research.google.com/notebooks/data_table.ipynb>data table notebook</a>'\n",
              "            + ' to learn more about interactive tables.';\n",
              "          element.innerHTML = '';\n",
              "          dataTable['output_type'] = 'display_data';\n",
              "          await google.colab.output.renderOutput(dataTable, element);\n",
              "          const docLink = document.createElement('div');\n",
              "          docLink.innerHTML = docLinkHtml;\n",
              "          element.appendChild(docLink);\n",
              "        }\n",
              "      </script>\n",
              "    </div>\n",
              "  </div>\n",
              "  "
            ]
          },
          "metadata": {},
          "execution_count": 39
        }
      ]
    },
    {
      "cell_type": "code",
      "source": [
        "# sorting data in ascending order\n",
        "\n",
        "df.sort_values('Year',ascending=True,inplace=True)"
      ],
      "metadata": {
        "id": "z6ffl6HhIqAR"
      },
      "execution_count": 40,
      "outputs": []
    },
    {
      "cell_type": "code",
      "source": [
        "df"
      ],
      "metadata": {
        "colab": {
          "base_uri": "https://localhost:8080/",
          "height": 424
        },
        "id": "r-0HL1Yxg4IS",
        "outputId": "86480dfa-f931-4f38-999d-83c2473af3a0"
      },
      "execution_count": 41,
      "outputs": [
        {
          "output_type": "execute_result",
          "data": {
            "text/plain": [
              "    Year  GDP_In_Billion_USD  Per_Capita_in_USD  Percentage_Growth \n",
              "60  1961               39.23                 85                3.72\n",
              "59  1962               42.16                 90                2.93\n",
              "58  1963               48.42                101                5.99\n",
              "57  1964               56.48                116                7.45\n",
              "56  1965               59.55                119               -2.64\n",
              "..   ...                 ...                ...                 ...\n",
              "4   2017             2651.47               1981                6.80\n",
              "3   2018             2702.93               1998                6.45\n",
              "2   2019             2831.55               2072                3.74\n",
              "1   2020             2667.69               1933               -6.60\n",
              "0   2021             3173.40               2277                8.95\n",
              "\n",
              "[61 rows x 4 columns]"
            ],
            "text/html": [
              "\n",
              "  <div id=\"df-809e9284-79a8-4abd-bc36-07b2f606c5ba\">\n",
              "    <div class=\"colab-df-container\">\n",
              "      <div>\n",
              "<style scoped>\n",
              "    .dataframe tbody tr th:only-of-type {\n",
              "        vertical-align: middle;\n",
              "    }\n",
              "\n",
              "    .dataframe tbody tr th {\n",
              "        vertical-align: top;\n",
              "    }\n",
              "\n",
              "    .dataframe thead th {\n",
              "        text-align: right;\n",
              "    }\n",
              "</style>\n",
              "<table border=\"1\" class=\"dataframe\">\n",
              "  <thead>\n",
              "    <tr style=\"text-align: right;\">\n",
              "      <th></th>\n",
              "      <th>Year</th>\n",
              "      <th>GDP_In_Billion_USD</th>\n",
              "      <th>Per_Capita_in_USD</th>\n",
              "      <th>Percentage_Growth</th>\n",
              "    </tr>\n",
              "  </thead>\n",
              "  <tbody>\n",
              "    <tr>\n",
              "      <th>60</th>\n",
              "      <td>1961</td>\n",
              "      <td>39.23</td>\n",
              "      <td>85</td>\n",
              "      <td>3.72</td>\n",
              "    </tr>\n",
              "    <tr>\n",
              "      <th>59</th>\n",
              "      <td>1962</td>\n",
              "      <td>42.16</td>\n",
              "      <td>90</td>\n",
              "      <td>2.93</td>\n",
              "    </tr>\n",
              "    <tr>\n",
              "      <th>58</th>\n",
              "      <td>1963</td>\n",
              "      <td>48.42</td>\n",
              "      <td>101</td>\n",
              "      <td>5.99</td>\n",
              "    </tr>\n",
              "    <tr>\n",
              "      <th>57</th>\n",
              "      <td>1964</td>\n",
              "      <td>56.48</td>\n",
              "      <td>116</td>\n",
              "      <td>7.45</td>\n",
              "    </tr>\n",
              "    <tr>\n",
              "      <th>56</th>\n",
              "      <td>1965</td>\n",
              "      <td>59.55</td>\n",
              "      <td>119</td>\n",
              "      <td>-2.64</td>\n",
              "    </tr>\n",
              "    <tr>\n",
              "      <th>...</th>\n",
              "      <td>...</td>\n",
              "      <td>...</td>\n",
              "      <td>...</td>\n",
              "      <td>...</td>\n",
              "    </tr>\n",
              "    <tr>\n",
              "      <th>4</th>\n",
              "      <td>2017</td>\n",
              "      <td>2651.47</td>\n",
              "      <td>1981</td>\n",
              "      <td>6.80</td>\n",
              "    </tr>\n",
              "    <tr>\n",
              "      <th>3</th>\n",
              "      <td>2018</td>\n",
              "      <td>2702.93</td>\n",
              "      <td>1998</td>\n",
              "      <td>6.45</td>\n",
              "    </tr>\n",
              "    <tr>\n",
              "      <th>2</th>\n",
              "      <td>2019</td>\n",
              "      <td>2831.55</td>\n",
              "      <td>2072</td>\n",
              "      <td>3.74</td>\n",
              "    </tr>\n",
              "    <tr>\n",
              "      <th>1</th>\n",
              "      <td>2020</td>\n",
              "      <td>2667.69</td>\n",
              "      <td>1933</td>\n",
              "      <td>-6.60</td>\n",
              "    </tr>\n",
              "    <tr>\n",
              "      <th>0</th>\n",
              "      <td>2021</td>\n",
              "      <td>3173.40</td>\n",
              "      <td>2277</td>\n",
              "      <td>8.95</td>\n",
              "    </tr>\n",
              "  </tbody>\n",
              "</table>\n",
              "<p>61 rows × 4 columns</p>\n",
              "</div>\n",
              "      <button class=\"colab-df-convert\" onclick=\"convertToInteractive('df-809e9284-79a8-4abd-bc36-07b2f606c5ba')\"\n",
              "              title=\"Convert this dataframe to an interactive table.\"\n",
              "              style=\"display:none;\">\n",
              "        \n",
              "  <svg xmlns=\"http://www.w3.org/2000/svg\" height=\"24px\"viewBox=\"0 0 24 24\"\n",
              "       width=\"24px\">\n",
              "    <path d=\"M0 0h24v24H0V0z\" fill=\"none\"/>\n",
              "    <path d=\"M18.56 5.44l.94 2.06.94-2.06 2.06-.94-2.06-.94-.94-2.06-.94 2.06-2.06.94zm-11 1L8.5 8.5l.94-2.06 2.06-.94-2.06-.94L8.5 2.5l-.94 2.06-2.06.94zm10 10l.94 2.06.94-2.06 2.06-.94-2.06-.94-.94-2.06-.94 2.06-2.06.94z\"/><path d=\"M17.41 7.96l-1.37-1.37c-.4-.4-.92-.59-1.43-.59-.52 0-1.04.2-1.43.59L10.3 9.45l-7.72 7.72c-.78.78-.78 2.05 0 2.83L4 21.41c.39.39.9.59 1.41.59.51 0 1.02-.2 1.41-.59l7.78-7.78 2.81-2.81c.8-.78.8-2.07 0-2.86zM5.41 20L4 18.59l7.72-7.72 1.47 1.35L5.41 20z\"/>\n",
              "  </svg>\n",
              "      </button>\n",
              "      \n",
              "  <style>\n",
              "    .colab-df-container {\n",
              "      display:flex;\n",
              "      flex-wrap:wrap;\n",
              "      gap: 12px;\n",
              "    }\n",
              "\n",
              "    .colab-df-convert {\n",
              "      background-color: #E8F0FE;\n",
              "      border: none;\n",
              "      border-radius: 50%;\n",
              "      cursor: pointer;\n",
              "      display: none;\n",
              "      fill: #1967D2;\n",
              "      height: 32px;\n",
              "      padding: 0 0 0 0;\n",
              "      width: 32px;\n",
              "    }\n",
              "\n",
              "    .colab-df-convert:hover {\n",
              "      background-color: #E2EBFA;\n",
              "      box-shadow: 0px 1px 2px rgba(60, 64, 67, 0.3), 0px 1px 3px 1px rgba(60, 64, 67, 0.15);\n",
              "      fill: #174EA6;\n",
              "    }\n",
              "\n",
              "    [theme=dark] .colab-df-convert {\n",
              "      background-color: #3B4455;\n",
              "      fill: #D2E3FC;\n",
              "    }\n",
              "\n",
              "    [theme=dark] .colab-df-convert:hover {\n",
              "      background-color: #434B5C;\n",
              "      box-shadow: 0px 1px 3px 1px rgba(0, 0, 0, 0.15);\n",
              "      filter: drop-shadow(0px 1px 2px rgba(0, 0, 0, 0.3));\n",
              "      fill: #FFFFFF;\n",
              "    }\n",
              "  </style>\n",
              "\n",
              "      <script>\n",
              "        const buttonEl =\n",
              "          document.querySelector('#df-809e9284-79a8-4abd-bc36-07b2f606c5ba button.colab-df-convert');\n",
              "        buttonEl.style.display =\n",
              "          google.colab.kernel.accessAllowed ? 'block' : 'none';\n",
              "\n",
              "        async function convertToInteractive(key) {\n",
              "          const element = document.querySelector('#df-809e9284-79a8-4abd-bc36-07b2f606c5ba');\n",
              "          const dataTable =\n",
              "            await google.colab.kernel.invokeFunction('convertToInteractive',\n",
              "                                                     [key], {});\n",
              "          if (!dataTable) return;\n",
              "\n",
              "          const docLinkHtml = 'Like what you see? Visit the ' +\n",
              "            '<a target=\"_blank\" href=https://colab.research.google.com/notebooks/data_table.ipynb>data table notebook</a>'\n",
              "            + ' to learn more about interactive tables.';\n",
              "          element.innerHTML = '';\n",
              "          dataTable['output_type'] = 'display_data';\n",
              "          await google.colab.output.renderOutput(dataTable, element);\n",
              "          const docLink = document.createElement('div');\n",
              "          docLink.innerHTML = docLinkHtml;\n",
              "          element.appendChild(docLink);\n",
              "        }\n",
              "      </script>\n",
              "    </div>\n",
              "  </div>\n",
              "  "
            ]
          },
          "metadata": {},
          "execution_count": 41
        }
      ]
    },
    {
      "cell_type": "code",
      "source": [
        "# getting info about dataset\n",
        "\n",
        "df.shape\n"
      ],
      "metadata": {
        "colab": {
          "base_uri": "https://localhost:8080/"
        },
        "id": "DnAvQDYMrG6v",
        "outputId": "0aa22a00-b90e-4aa6-be38-4555eef0cfb5"
      },
      "execution_count": 42,
      "outputs": [
        {
          "output_type": "execute_result",
          "data": {
            "text/plain": [
              "(61, 4)"
            ]
          },
          "metadata": {},
          "execution_count": 42
        }
      ]
    },
    {
      "cell_type": "markdown",
      "source": [
        "## Data cleaning"
      ],
      "metadata": {
        "id": "1NLb5kczvGeS"
      }
    },
    {
      "cell_type": "code",
      "source": [
        "# checking for empty cells\n",
        "\n",
        "df.info()"
      ],
      "metadata": {
        "colab": {
          "base_uri": "https://localhost:8080/"
        },
        "id": "Re2sDsQD7JcL",
        "outputId": "b3b587d0-171e-4dbb-f8df-3fc87087b0f2"
      },
      "execution_count": 43,
      "outputs": [
        {
          "output_type": "stream",
          "name": "stdout",
          "text": [
            "<class 'pandas.core.frame.DataFrame'>\n",
            "Int64Index: 61 entries, 60 to 0\n",
            "Data columns (total 4 columns):\n",
            " #   Column              Non-Null Count  Dtype  \n",
            "---  ------              --------------  -----  \n",
            " 0   Year                61 non-null     int64  \n",
            " 1   GDP_In_Billion_USD  61 non-null     float64\n",
            " 2   Per_Capita_in_USD   61 non-null     int64  \n",
            " 3   Percentage_Growth   61 non-null     float64\n",
            "dtypes: float64(2), int64(2)\n",
            "memory usage: 2.4 KB\n"
          ]
        }
      ]
    },
    {
      "cell_type": "code",
      "source": [
        "df.isnull().sum()"
      ],
      "metadata": {
        "colab": {
          "base_uri": "https://localhost:8080/"
        },
        "id": "lLdVGkKYB1r3",
        "outputId": "cd20222c-481c-4606-9180-48d6fc589813"
      },
      "execution_count": 44,
      "outputs": [
        {
          "output_type": "execute_result",
          "data": {
            "text/plain": [
              "Year                  0\n",
              "GDP_In_Billion_USD    0\n",
              "Per_Capita_in_USD     0\n",
              "Percentage_Growth     0\n",
              "dtype: int64"
            ]
          },
          "metadata": {},
          "execution_count": 44
        }
      ]
    },
    {
      "cell_type": "code",
      "source": [
        "# checking for duplicate cells\n",
        "df.duplicated().sum()"
      ],
      "metadata": {
        "colab": {
          "base_uri": "https://localhost:8080/"
        },
        "id": "8os1h9M8uNP4",
        "outputId": "fc28147f-2869-4253-89dd-d225b3b4b7e2"
      },
      "execution_count": 45,
      "outputs": [
        {
          "output_type": "execute_result",
          "data": {
            "text/plain": [
              "0"
            ]
          },
          "metadata": {},
          "execution_count": 45
        }
      ]
    },
    {
      "cell_type": "markdown",
      "source": [
        "---\n",
        " > **since there is no null values in any of the columns, there is no need to remove or replace the empty cells.**\n",
        "\n",
        "\n",
        ">likewise there is no \n",
        "\n",
        ">*   data in wrong format\n",
        "*   duplicate data.\n",
        "\n",
        "\n",
        "\n",
        "\n",
        "\n",
        "\n",
        " ---\n"
      ],
      "metadata": {
        "id": "lNHsC3AEC3V0"
      }
    },
    {
      "cell_type": "markdown",
      "source": [
        "# Statisical Description"
      ],
      "metadata": {
        "id": "xBqlSF2yvO7B"
      }
    },
    {
      "cell_type": "code",
      "source": [
        "df.describe().T"
      ],
      "metadata": {
        "colab": {
          "base_uri": "https://localhost:8080/",
          "height": 175
        },
        "id": "LQf2Q5jXA76g",
        "outputId": "023a5041-9498-4707-acea-bc1f510791b0"
      },
      "execution_count": 46,
      "outputs": [
        {
          "output_type": "execute_result",
          "data": {
            "text/plain": [
              "                    count         mean         std      min      25%      50%  \\\n",
              "Year                 61.0  1991.000000   17.752934  1961.00  1976.00  1991.00   \n",
              "GDP_In_Billion_USD   61.0   709.889016  870.169692    39.23   102.72   296.04   \n",
              "Per_Capita_in_USD    61.0   611.163934  618.757227    85.00   163.00   346.00   \n",
              "Percentage_Growth    61.0     5.089344    3.282711    -6.60     3.74     5.71   \n",
              "\n",
              "                        75%      max  \n",
              "Year                2006.00  2021.00  \n",
              "GDP_In_Billion_USD   940.26  3173.40  \n",
              "Per_Capita_in_USD    807.00  2277.00  \n",
              "Percentage_Growth      7.55     9.63  "
            ],
            "text/html": [
              "\n",
              "  <div id=\"df-68775046-bdeb-4836-8aff-00b8e888143f\">\n",
              "    <div class=\"colab-df-container\">\n",
              "      <div>\n",
              "<style scoped>\n",
              "    .dataframe tbody tr th:only-of-type {\n",
              "        vertical-align: middle;\n",
              "    }\n",
              "\n",
              "    .dataframe tbody tr th {\n",
              "        vertical-align: top;\n",
              "    }\n",
              "\n",
              "    .dataframe thead th {\n",
              "        text-align: right;\n",
              "    }\n",
              "</style>\n",
              "<table border=\"1\" class=\"dataframe\">\n",
              "  <thead>\n",
              "    <tr style=\"text-align: right;\">\n",
              "      <th></th>\n",
              "      <th>count</th>\n",
              "      <th>mean</th>\n",
              "      <th>std</th>\n",
              "      <th>min</th>\n",
              "      <th>25%</th>\n",
              "      <th>50%</th>\n",
              "      <th>75%</th>\n",
              "      <th>max</th>\n",
              "    </tr>\n",
              "  </thead>\n",
              "  <tbody>\n",
              "    <tr>\n",
              "      <th>Year</th>\n",
              "      <td>61.0</td>\n",
              "      <td>1991.000000</td>\n",
              "      <td>17.752934</td>\n",
              "      <td>1961.00</td>\n",
              "      <td>1976.00</td>\n",
              "      <td>1991.00</td>\n",
              "      <td>2006.00</td>\n",
              "      <td>2021.00</td>\n",
              "    </tr>\n",
              "    <tr>\n",
              "      <th>GDP_In_Billion_USD</th>\n",
              "      <td>61.0</td>\n",
              "      <td>709.889016</td>\n",
              "      <td>870.169692</td>\n",
              "      <td>39.23</td>\n",
              "      <td>102.72</td>\n",
              "      <td>296.04</td>\n",
              "      <td>940.26</td>\n",
              "      <td>3173.40</td>\n",
              "    </tr>\n",
              "    <tr>\n",
              "      <th>Per_Capita_in_USD</th>\n",
              "      <td>61.0</td>\n",
              "      <td>611.163934</td>\n",
              "      <td>618.757227</td>\n",
              "      <td>85.00</td>\n",
              "      <td>163.00</td>\n",
              "      <td>346.00</td>\n",
              "      <td>807.00</td>\n",
              "      <td>2277.00</td>\n",
              "    </tr>\n",
              "    <tr>\n",
              "      <th>Percentage_Growth</th>\n",
              "      <td>61.0</td>\n",
              "      <td>5.089344</td>\n",
              "      <td>3.282711</td>\n",
              "      <td>-6.60</td>\n",
              "      <td>3.74</td>\n",
              "      <td>5.71</td>\n",
              "      <td>7.55</td>\n",
              "      <td>9.63</td>\n",
              "    </tr>\n",
              "  </tbody>\n",
              "</table>\n",
              "</div>\n",
              "      <button class=\"colab-df-convert\" onclick=\"convertToInteractive('df-68775046-bdeb-4836-8aff-00b8e888143f')\"\n",
              "              title=\"Convert this dataframe to an interactive table.\"\n",
              "              style=\"display:none;\">\n",
              "        \n",
              "  <svg xmlns=\"http://www.w3.org/2000/svg\" height=\"24px\"viewBox=\"0 0 24 24\"\n",
              "       width=\"24px\">\n",
              "    <path d=\"M0 0h24v24H0V0z\" fill=\"none\"/>\n",
              "    <path d=\"M18.56 5.44l.94 2.06.94-2.06 2.06-.94-2.06-.94-.94-2.06-.94 2.06-2.06.94zm-11 1L8.5 8.5l.94-2.06 2.06-.94-2.06-.94L8.5 2.5l-.94 2.06-2.06.94zm10 10l.94 2.06.94-2.06 2.06-.94-2.06-.94-.94-2.06-.94 2.06-2.06.94z\"/><path d=\"M17.41 7.96l-1.37-1.37c-.4-.4-.92-.59-1.43-.59-.52 0-1.04.2-1.43.59L10.3 9.45l-7.72 7.72c-.78.78-.78 2.05 0 2.83L4 21.41c.39.39.9.59 1.41.59.51 0 1.02-.2 1.41-.59l7.78-7.78 2.81-2.81c.8-.78.8-2.07 0-2.86zM5.41 20L4 18.59l7.72-7.72 1.47 1.35L5.41 20z\"/>\n",
              "  </svg>\n",
              "      </button>\n",
              "      \n",
              "  <style>\n",
              "    .colab-df-container {\n",
              "      display:flex;\n",
              "      flex-wrap:wrap;\n",
              "      gap: 12px;\n",
              "    }\n",
              "\n",
              "    .colab-df-convert {\n",
              "      background-color: #E8F0FE;\n",
              "      border: none;\n",
              "      border-radius: 50%;\n",
              "      cursor: pointer;\n",
              "      display: none;\n",
              "      fill: #1967D2;\n",
              "      height: 32px;\n",
              "      padding: 0 0 0 0;\n",
              "      width: 32px;\n",
              "    }\n",
              "\n",
              "    .colab-df-convert:hover {\n",
              "      background-color: #E2EBFA;\n",
              "      box-shadow: 0px 1px 2px rgba(60, 64, 67, 0.3), 0px 1px 3px 1px rgba(60, 64, 67, 0.15);\n",
              "      fill: #174EA6;\n",
              "    }\n",
              "\n",
              "    [theme=dark] .colab-df-convert {\n",
              "      background-color: #3B4455;\n",
              "      fill: #D2E3FC;\n",
              "    }\n",
              "\n",
              "    [theme=dark] .colab-df-convert:hover {\n",
              "      background-color: #434B5C;\n",
              "      box-shadow: 0px 1px 3px 1px rgba(0, 0, 0, 0.15);\n",
              "      filter: drop-shadow(0px 1px 2px rgba(0, 0, 0, 0.3));\n",
              "      fill: #FFFFFF;\n",
              "    }\n",
              "  </style>\n",
              "\n",
              "      <script>\n",
              "        const buttonEl =\n",
              "          document.querySelector('#df-68775046-bdeb-4836-8aff-00b8e888143f button.colab-df-convert');\n",
              "        buttonEl.style.display =\n",
              "          google.colab.kernel.accessAllowed ? 'block' : 'none';\n",
              "\n",
              "        async function convertToInteractive(key) {\n",
              "          const element = document.querySelector('#df-68775046-bdeb-4836-8aff-00b8e888143f');\n",
              "          const dataTable =\n",
              "            await google.colab.kernel.invokeFunction('convertToInteractive',\n",
              "                                                     [key], {});\n",
              "          if (!dataTable) return;\n",
              "\n",
              "          const docLinkHtml = 'Like what you see? Visit the ' +\n",
              "            '<a target=\"_blank\" href=https://colab.research.google.com/notebooks/data_table.ipynb>data table notebook</a>'\n",
              "            + ' to learn more about interactive tables.';\n",
              "          element.innerHTML = '';\n",
              "          dataTable['output_type'] = 'display_data';\n",
              "          await google.colab.output.renderOutput(dataTable, element);\n",
              "          const docLink = document.createElement('div');\n",
              "          docLink.innerHTML = docLinkHtml;\n",
              "          element.appendChild(docLink);\n",
              "        }\n",
              "      </script>\n",
              "    </div>\n",
              "  </div>\n",
              "  "
            ]
          },
          "metadata": {},
          "execution_count": 46
        }
      ]
    },
    {
      "cell_type": "markdown",
      "source": [
        "## Finding Correlation"
      ],
      "metadata": {
        "id": "bl6tFH_jvkVf"
      }
    },
    {
      "cell_type": "code",
      "source": [
        "df.corr()"
      ],
      "metadata": {
        "colab": {
          "base_uri": "https://localhost:8080/",
          "height": 175
        },
        "id": "XsAG1dVEDX4f",
        "outputId": "a19be5c8-cc8e-4503-b556-12cdfa678ce7"
      },
      "execution_count": 47,
      "outputs": [
        {
          "output_type": "execute_result",
          "data": {
            "text/plain": [
              "                        Year  GDP_In_Billion_USD  Per_Capita_in_USD  \\\n",
              "Year                1.000000            0.851546           0.869831   \n",
              "GDP_In_Billion_USD  0.851546            1.000000           0.998592   \n",
              "Per_Capita_in_USD   0.869831            0.998592           1.000000   \n",
              "Percentage_Growth   0.276549            0.154507           0.172981   \n",
              "\n",
              "                    Percentage_Growth   \n",
              "Year                          0.276549  \n",
              "GDP_In_Billion_USD            0.154507  \n",
              "Per_Capita_in_USD             0.172981  \n",
              "Percentage_Growth             1.000000  "
            ],
            "text/html": [
              "\n",
              "  <div id=\"df-a7dc06ac-c387-468e-9773-66a25b9ceb28\">\n",
              "    <div class=\"colab-df-container\">\n",
              "      <div>\n",
              "<style scoped>\n",
              "    .dataframe tbody tr th:only-of-type {\n",
              "        vertical-align: middle;\n",
              "    }\n",
              "\n",
              "    .dataframe tbody tr th {\n",
              "        vertical-align: top;\n",
              "    }\n",
              "\n",
              "    .dataframe thead th {\n",
              "        text-align: right;\n",
              "    }\n",
              "</style>\n",
              "<table border=\"1\" class=\"dataframe\">\n",
              "  <thead>\n",
              "    <tr style=\"text-align: right;\">\n",
              "      <th></th>\n",
              "      <th>Year</th>\n",
              "      <th>GDP_In_Billion_USD</th>\n",
              "      <th>Per_Capita_in_USD</th>\n",
              "      <th>Percentage_Growth</th>\n",
              "    </tr>\n",
              "  </thead>\n",
              "  <tbody>\n",
              "    <tr>\n",
              "      <th>Year</th>\n",
              "      <td>1.000000</td>\n",
              "      <td>0.851546</td>\n",
              "      <td>0.869831</td>\n",
              "      <td>0.276549</td>\n",
              "    </tr>\n",
              "    <tr>\n",
              "      <th>GDP_In_Billion_USD</th>\n",
              "      <td>0.851546</td>\n",
              "      <td>1.000000</td>\n",
              "      <td>0.998592</td>\n",
              "      <td>0.154507</td>\n",
              "    </tr>\n",
              "    <tr>\n",
              "      <th>Per_Capita_in_USD</th>\n",
              "      <td>0.869831</td>\n",
              "      <td>0.998592</td>\n",
              "      <td>1.000000</td>\n",
              "      <td>0.172981</td>\n",
              "    </tr>\n",
              "    <tr>\n",
              "      <th>Percentage_Growth</th>\n",
              "      <td>0.276549</td>\n",
              "      <td>0.154507</td>\n",
              "      <td>0.172981</td>\n",
              "      <td>1.000000</td>\n",
              "    </tr>\n",
              "  </tbody>\n",
              "</table>\n",
              "</div>\n",
              "      <button class=\"colab-df-convert\" onclick=\"convertToInteractive('df-a7dc06ac-c387-468e-9773-66a25b9ceb28')\"\n",
              "              title=\"Convert this dataframe to an interactive table.\"\n",
              "              style=\"display:none;\">\n",
              "        \n",
              "  <svg xmlns=\"http://www.w3.org/2000/svg\" height=\"24px\"viewBox=\"0 0 24 24\"\n",
              "       width=\"24px\">\n",
              "    <path d=\"M0 0h24v24H0V0z\" fill=\"none\"/>\n",
              "    <path d=\"M18.56 5.44l.94 2.06.94-2.06 2.06-.94-2.06-.94-.94-2.06-.94 2.06-2.06.94zm-11 1L8.5 8.5l.94-2.06 2.06-.94-2.06-.94L8.5 2.5l-.94 2.06-2.06.94zm10 10l.94 2.06.94-2.06 2.06-.94-2.06-.94-.94-2.06-.94 2.06-2.06.94z\"/><path d=\"M17.41 7.96l-1.37-1.37c-.4-.4-.92-.59-1.43-.59-.52 0-1.04.2-1.43.59L10.3 9.45l-7.72 7.72c-.78.78-.78 2.05 0 2.83L4 21.41c.39.39.9.59 1.41.59.51 0 1.02-.2 1.41-.59l7.78-7.78 2.81-2.81c.8-.78.8-2.07 0-2.86zM5.41 20L4 18.59l7.72-7.72 1.47 1.35L5.41 20z\"/>\n",
              "  </svg>\n",
              "      </button>\n",
              "      \n",
              "  <style>\n",
              "    .colab-df-container {\n",
              "      display:flex;\n",
              "      flex-wrap:wrap;\n",
              "      gap: 12px;\n",
              "    }\n",
              "\n",
              "    .colab-df-convert {\n",
              "      background-color: #E8F0FE;\n",
              "      border: none;\n",
              "      border-radius: 50%;\n",
              "      cursor: pointer;\n",
              "      display: none;\n",
              "      fill: #1967D2;\n",
              "      height: 32px;\n",
              "      padding: 0 0 0 0;\n",
              "      width: 32px;\n",
              "    }\n",
              "\n",
              "    .colab-df-convert:hover {\n",
              "      background-color: #E2EBFA;\n",
              "      box-shadow: 0px 1px 2px rgba(60, 64, 67, 0.3), 0px 1px 3px 1px rgba(60, 64, 67, 0.15);\n",
              "      fill: #174EA6;\n",
              "    }\n",
              "\n",
              "    [theme=dark] .colab-df-convert {\n",
              "      background-color: #3B4455;\n",
              "      fill: #D2E3FC;\n",
              "    }\n",
              "\n",
              "    [theme=dark] .colab-df-convert:hover {\n",
              "      background-color: #434B5C;\n",
              "      box-shadow: 0px 1px 3px 1px rgba(0, 0, 0, 0.15);\n",
              "      filter: drop-shadow(0px 1px 2px rgba(0, 0, 0, 0.3));\n",
              "      fill: #FFFFFF;\n",
              "    }\n",
              "  </style>\n",
              "\n",
              "      <script>\n",
              "        const buttonEl =\n",
              "          document.querySelector('#df-a7dc06ac-c387-468e-9773-66a25b9ceb28 button.colab-df-convert');\n",
              "        buttonEl.style.display =\n",
              "          google.colab.kernel.accessAllowed ? 'block' : 'none';\n",
              "\n",
              "        async function convertToInteractive(key) {\n",
              "          const element = document.querySelector('#df-a7dc06ac-c387-468e-9773-66a25b9ceb28');\n",
              "          const dataTable =\n",
              "            await google.colab.kernel.invokeFunction('convertToInteractive',\n",
              "                                                     [key], {});\n",
              "          if (!dataTable) return;\n",
              "\n",
              "          const docLinkHtml = 'Like what you see? Visit the ' +\n",
              "            '<a target=\"_blank\" href=https://colab.research.google.com/notebooks/data_table.ipynb>data table notebook</a>'\n",
              "            + ' to learn more about interactive tables.';\n",
              "          element.innerHTML = '';\n",
              "          dataTable['output_type'] = 'display_data';\n",
              "          await google.colab.output.renderOutput(dataTable, element);\n",
              "          const docLink = document.createElement('div');\n",
              "          docLink.innerHTML = docLinkHtml;\n",
              "          element.appendChild(docLink);\n",
              "        }\n",
              "      </script>\n",
              "    </div>\n",
              "  </div>\n",
              "  "
            ]
          },
          "metadata": {},
          "execution_count": 47
        }
      ]
    },
    {
      "cell_type": "markdown",
      "source": [
        "---\n",
        "\n",
        "### important observation from the above is\n",
        " * GDP depends on both `year` and `Per capita` and increses as both increases.\n",
        " *  likewise \"Per Capita\" depends on both `year` and `GDP`\n",
        " *  but \"Percentage growth\" doesn't depend much on any factors. so there is not much variations with respect to other factors.  \n",
        "\n",
        " ---\n",
        "\n",
        "\n",
        "\n",
        "   "
      ],
      "metadata": {
        "id": "puNv5b_jDj8l"
      }
    },
    {
      "cell_type": "code",
      "source": [
        "df"
      ],
      "metadata": {
        "colab": {
          "base_uri": "https://localhost:8080/",
          "height": 424
        },
        "id": "QNIlcBaJFTFq",
        "outputId": "e5639e3a-91fa-4547-b49c-ec4f20608061"
      },
      "execution_count": 48,
      "outputs": [
        {
          "output_type": "execute_result",
          "data": {
            "text/plain": [
              "    Year  GDP_In_Billion_USD  Per_Capita_in_USD  Percentage_Growth \n",
              "60  1961               39.23                 85                3.72\n",
              "59  1962               42.16                 90                2.93\n",
              "58  1963               48.42                101                5.99\n",
              "57  1964               56.48                116                7.45\n",
              "56  1965               59.55                119               -2.64\n",
              "..   ...                 ...                ...                 ...\n",
              "4   2017             2651.47               1981                6.80\n",
              "3   2018             2702.93               1998                6.45\n",
              "2   2019             2831.55               2072                3.74\n",
              "1   2020             2667.69               1933               -6.60\n",
              "0   2021             3173.40               2277                8.95\n",
              "\n",
              "[61 rows x 4 columns]"
            ],
            "text/html": [
              "\n",
              "  <div id=\"df-0d28a332-d3d0-4937-a9b4-66955a97213e\">\n",
              "    <div class=\"colab-df-container\">\n",
              "      <div>\n",
              "<style scoped>\n",
              "    .dataframe tbody tr th:only-of-type {\n",
              "        vertical-align: middle;\n",
              "    }\n",
              "\n",
              "    .dataframe tbody tr th {\n",
              "        vertical-align: top;\n",
              "    }\n",
              "\n",
              "    .dataframe thead th {\n",
              "        text-align: right;\n",
              "    }\n",
              "</style>\n",
              "<table border=\"1\" class=\"dataframe\">\n",
              "  <thead>\n",
              "    <tr style=\"text-align: right;\">\n",
              "      <th></th>\n",
              "      <th>Year</th>\n",
              "      <th>GDP_In_Billion_USD</th>\n",
              "      <th>Per_Capita_in_USD</th>\n",
              "      <th>Percentage_Growth</th>\n",
              "    </tr>\n",
              "  </thead>\n",
              "  <tbody>\n",
              "    <tr>\n",
              "      <th>60</th>\n",
              "      <td>1961</td>\n",
              "      <td>39.23</td>\n",
              "      <td>85</td>\n",
              "      <td>3.72</td>\n",
              "    </tr>\n",
              "    <tr>\n",
              "      <th>59</th>\n",
              "      <td>1962</td>\n",
              "      <td>42.16</td>\n",
              "      <td>90</td>\n",
              "      <td>2.93</td>\n",
              "    </tr>\n",
              "    <tr>\n",
              "      <th>58</th>\n",
              "      <td>1963</td>\n",
              "      <td>48.42</td>\n",
              "      <td>101</td>\n",
              "      <td>5.99</td>\n",
              "    </tr>\n",
              "    <tr>\n",
              "      <th>57</th>\n",
              "      <td>1964</td>\n",
              "      <td>56.48</td>\n",
              "      <td>116</td>\n",
              "      <td>7.45</td>\n",
              "    </tr>\n",
              "    <tr>\n",
              "      <th>56</th>\n",
              "      <td>1965</td>\n",
              "      <td>59.55</td>\n",
              "      <td>119</td>\n",
              "      <td>-2.64</td>\n",
              "    </tr>\n",
              "    <tr>\n",
              "      <th>...</th>\n",
              "      <td>...</td>\n",
              "      <td>...</td>\n",
              "      <td>...</td>\n",
              "      <td>...</td>\n",
              "    </tr>\n",
              "    <tr>\n",
              "      <th>4</th>\n",
              "      <td>2017</td>\n",
              "      <td>2651.47</td>\n",
              "      <td>1981</td>\n",
              "      <td>6.80</td>\n",
              "    </tr>\n",
              "    <tr>\n",
              "      <th>3</th>\n",
              "      <td>2018</td>\n",
              "      <td>2702.93</td>\n",
              "      <td>1998</td>\n",
              "      <td>6.45</td>\n",
              "    </tr>\n",
              "    <tr>\n",
              "      <th>2</th>\n",
              "      <td>2019</td>\n",
              "      <td>2831.55</td>\n",
              "      <td>2072</td>\n",
              "      <td>3.74</td>\n",
              "    </tr>\n",
              "    <tr>\n",
              "      <th>1</th>\n",
              "      <td>2020</td>\n",
              "      <td>2667.69</td>\n",
              "      <td>1933</td>\n",
              "      <td>-6.60</td>\n",
              "    </tr>\n",
              "    <tr>\n",
              "      <th>0</th>\n",
              "      <td>2021</td>\n",
              "      <td>3173.40</td>\n",
              "      <td>2277</td>\n",
              "      <td>8.95</td>\n",
              "    </tr>\n",
              "  </tbody>\n",
              "</table>\n",
              "<p>61 rows × 4 columns</p>\n",
              "</div>\n",
              "      <button class=\"colab-df-convert\" onclick=\"convertToInteractive('df-0d28a332-d3d0-4937-a9b4-66955a97213e')\"\n",
              "              title=\"Convert this dataframe to an interactive table.\"\n",
              "              style=\"display:none;\">\n",
              "        \n",
              "  <svg xmlns=\"http://www.w3.org/2000/svg\" height=\"24px\"viewBox=\"0 0 24 24\"\n",
              "       width=\"24px\">\n",
              "    <path d=\"M0 0h24v24H0V0z\" fill=\"none\"/>\n",
              "    <path d=\"M18.56 5.44l.94 2.06.94-2.06 2.06-.94-2.06-.94-.94-2.06-.94 2.06-2.06.94zm-11 1L8.5 8.5l.94-2.06 2.06-.94-2.06-.94L8.5 2.5l-.94 2.06-2.06.94zm10 10l.94 2.06.94-2.06 2.06-.94-2.06-.94-.94-2.06-.94 2.06-2.06.94z\"/><path d=\"M17.41 7.96l-1.37-1.37c-.4-.4-.92-.59-1.43-.59-.52 0-1.04.2-1.43.59L10.3 9.45l-7.72 7.72c-.78.78-.78 2.05 0 2.83L4 21.41c.39.39.9.59 1.41.59.51 0 1.02-.2 1.41-.59l7.78-7.78 2.81-2.81c.8-.78.8-2.07 0-2.86zM5.41 20L4 18.59l7.72-7.72 1.47 1.35L5.41 20z\"/>\n",
              "  </svg>\n",
              "      </button>\n",
              "      \n",
              "  <style>\n",
              "    .colab-df-container {\n",
              "      display:flex;\n",
              "      flex-wrap:wrap;\n",
              "      gap: 12px;\n",
              "    }\n",
              "\n",
              "    .colab-df-convert {\n",
              "      background-color: #E8F0FE;\n",
              "      border: none;\n",
              "      border-radius: 50%;\n",
              "      cursor: pointer;\n",
              "      display: none;\n",
              "      fill: #1967D2;\n",
              "      height: 32px;\n",
              "      padding: 0 0 0 0;\n",
              "      width: 32px;\n",
              "    }\n",
              "\n",
              "    .colab-df-convert:hover {\n",
              "      background-color: #E2EBFA;\n",
              "      box-shadow: 0px 1px 2px rgba(60, 64, 67, 0.3), 0px 1px 3px 1px rgba(60, 64, 67, 0.15);\n",
              "      fill: #174EA6;\n",
              "    }\n",
              "\n",
              "    [theme=dark] .colab-df-convert {\n",
              "      background-color: #3B4455;\n",
              "      fill: #D2E3FC;\n",
              "    }\n",
              "\n",
              "    [theme=dark] .colab-df-convert:hover {\n",
              "      background-color: #434B5C;\n",
              "      box-shadow: 0px 1px 3px 1px rgba(0, 0, 0, 0.15);\n",
              "      filter: drop-shadow(0px 1px 2px rgba(0, 0, 0, 0.3));\n",
              "      fill: #FFFFFF;\n",
              "    }\n",
              "  </style>\n",
              "\n",
              "      <script>\n",
              "        const buttonEl =\n",
              "          document.querySelector('#df-0d28a332-d3d0-4937-a9b4-66955a97213e button.colab-df-convert');\n",
              "        buttonEl.style.display =\n",
              "          google.colab.kernel.accessAllowed ? 'block' : 'none';\n",
              "\n",
              "        async function convertToInteractive(key) {\n",
              "          const element = document.querySelector('#df-0d28a332-d3d0-4937-a9b4-66955a97213e');\n",
              "          const dataTable =\n",
              "            await google.colab.kernel.invokeFunction('convertToInteractive',\n",
              "                                                     [key], {});\n",
              "          if (!dataTable) return;\n",
              "\n",
              "          const docLinkHtml = 'Like what you see? Visit the ' +\n",
              "            '<a target=\"_blank\" href=https://colab.research.google.com/notebooks/data_table.ipynb>data table notebook</a>'\n",
              "            + ' to learn more about interactive tables.';\n",
              "          element.innerHTML = '';\n",
              "          dataTable['output_type'] = 'display_data';\n",
              "          await google.colab.output.renderOutput(dataTable, element);\n",
              "          const docLink = document.createElement('div');\n",
              "          docLink.innerHTML = docLinkHtml;\n",
              "          element.appendChild(docLink);\n",
              "        }\n",
              "      </script>\n",
              "    </div>\n",
              "  </div>\n",
              "  "
            ]
          },
          "metadata": {},
          "execution_count": 48
        }
      ]
    },
    {
      "cell_type": "markdown",
      "source": [
        "# DATA VISUALIZATION"
      ],
      "metadata": {
        "id": "CkMroSf0XW3S"
      }
    },
    {
      "cell_type": "markdown",
      "source": [
        "LINE PLOTTING"
      ],
      "metadata": {
        "id": "-nmvDMvStHZQ"
      }
    },
    {
      "cell_type": "code",
      "source": [
        "# GDP Plot\n",
        "plt.figure(figsize=(12,6))\n",
        "plt.plot(df[\"Year\"],df[\"GDP_In_Billion_USD\"],color=\"orange\")\n",
        "plt.title('Year vs GDP',color='green',size=20,family='serif')\n",
        "plt.xlabel('Year',color='green',size=12,family='serif')\n",
        "plt.ylabel('GDP(in Billion USD',color='green',size=12,family='serif')\n",
        "plt.show()\n"
      ],
      "metadata": {
        "colab": {
          "base_uri": "https://localhost:8080/",
          "height": 412
        },
        "id": "XxFlW9EmGThd",
        "outputId": "7a836850-c6af-45fd-e696-6fc0ec9c61f4"
      },
      "execution_count": 49,
      "outputs": [
        {
          "output_type": "display_data",
          "data": {
            "text/plain": [
              "<Figure size 864x432 with 1 Axes>"
            ],
            "image/png": "[encoded data removed]"
          },
          "metadata": {
            "needs_background": "light"
          }
        }
      ]
    },
    {
      "cell_type": "markdown",
      "source": [
        " From the above plot, `GDP` increases as the `Year` gets increases\n",
        " \n",
        "\n",
        "---"
      ],
      "metadata": {
        "id": "c6gaAHUgetIL"
      }
    },
    {
      "cell_type": "code",
      "source": [
        "#Per Capita Plot\n",
        "plt.figure(figsize=(12,6))\n",
        "plt.plot(df['Year'],df['Per_Capita_in_USD'],'-b')\n",
        "plt.title('Year vs Per Capita',size=20,family='serif',color = \"red\")\n",
        "plt.xlabel(\"Year\",size=12,color='red')\n",
        "plt.ylabel('Per Capita(in USD)',size=12,color='red')\n",
        "plt.show()\n"
      ],
      "metadata": {
        "colab": {
          "base_uri": "https://localhost:8080/",
          "height": 412
        },
        "id": "CYcfgh_9W1uF",
        "outputId": "8999ac7d-5fbc-4b06-d84a-e2431dc017c8"
      },
      "execution_count": 50,
      "outputs": [
        {
          "output_type": "display_data",
          "data": {
            "text/plain": [
              "<Figure size 864x432 with 1 Axes>"
            ],
            "image/png": "[encoded data removed]"
          },
          "metadata": {
            "needs_background": "light"
          }
        }
      ]
    },
    {
      "cell_type": "markdown",
      "source": [
        "From the above plot,`Per Capita` increases with increase in `Year`\n",
        "\n",
        "---"
      ],
      "metadata": {
        "id": "vZSdOwqAf6wE"
      }
    },
    {
      "cell_type": "code",
      "source": [
        "# percentage growth plot\n",
        "plt.figure(figsize=(12,6))\n",
        "plt.plot(df[\"Year\"],df[\"Percentage_Growth \"],'-g')\n",
        "plt.title('Year vs Percentage Growth',size=20,family='serif',color = \"orange\")\n",
        "plt.xlabel('Year',size=12,color='orange')\n",
        "plt.ylabel('Percentage Growth',size=12,color='orange')\n",
        "plt.show()"
      ],
      "metadata": {
        "colab": {
          "base_uri": "https://localhost:8080/",
          "height": 412
        },
        "id": "Tw7fcjdAcC88",
        "outputId": "86a9e75e-2775-4744-a14a-7deba6a57ca5"
      },
      "execution_count": 51,
      "outputs": [
        {
          "output_type": "display_data",
          "data": {
            "text/plain": [
              "<Figure size 864x432 with 1 Axes>"
            ],
            "image/png": "[encoded data removed]"
          },
          "metadata": {
            "needs_background": "light"
          }
        }
      ]
    },
    {
      "cell_type": "markdown",
      "source": [
        "From the above plot, the `percencentage growth` does not depend on `Year` and `Percentage Growth` keeps on flactuating throughout years.\n",
        "\n",
        "---\n",
        "\n"
      ],
      "metadata": {
        "id": "2SySfuMzgYgu"
      }
    },
    {
      "cell_type": "code",
      "source": [
        "\n",
        "plt.figure(figsize=(20,5))\n",
        "\n",
        "\n",
        "#GDP Plot\n",
        "plt.subplot(1,3,1)\n",
        "plt.plot(df[\"Year\"],df[\"GDP_In_Billion_USD\"],color=\"orange\")\n",
        "plt.title('Year vs GDP',color='green',size=20,family='serif')\n",
        "plt.xlabel('Year',color='green',size=12,family='serif')\n",
        "plt.ylabel('GDP(in Billion USD',color='green',size=12,family='serif')\n",
        "\n",
        "#Per Capita Plot\n",
        "plt.subplot(1,3,2)\n",
        "plt.plot(df['Year'],df['Per_Capita_in_USD'],'-b')\n",
        "plt.title('Year vs Per Capita',size=20,family='serif',color = \"red\")\n",
        "plt.xlabel(\"Year\",size=12,color='red')\n",
        "plt.ylabel('Per Capita(in USD)',size=12,color='red')\n",
        "\n",
        "# percentage growth plot\n",
        "plt.subplot(1,3,3)\n",
        "plt.plot(df[\"Year\"],df[\"Percentage_Growth \"],'-g')\n",
        "plt.title('Year vs Percentage Growth',size=20,family='serif',color = \"orange\")\n",
        "plt.xlabel('Year',size=12,color='orange')\n",
        "plt.ylabel('Percentage Growth',size=12,color='orange')\n",
        "\n",
        "plt.suptitle('LINE PLOT',size=20,family='serif')\n",
        "plt.show()\n",
        "\n",
        "\n",
        "\n",
        "\n",
        "\n"
      ],
      "metadata": {
        "colab": {
          "base_uri": "https://localhost:8080/",
          "height": 373
        },
        "id": "W2OSp9qAy0kB",
        "outputId": "649ef2a5-3529-49bc-c4fa-10b8e4559b8a"
      },
      "execution_count": 52,
      "outputs": [
        {
          "output_type": "display_data",
          "data": {
            "text/plain": [
              "<Figure size 1440x360 with 3 Axes>"
            ],
            "image/png": "[encoded data removed]"
          },
          "metadata": {
            "needs_background": "light"
          }
        }
      ]
    },
    {
      "cell_type": "code",
      "source": [
        "df.corr()"
      ],
      "metadata": {
        "colab": {
          "base_uri": "https://localhost:8080/",
          "height": 175
        },
        "id": "NAf8AIIP63v2",
        "outputId": "aef84f4a-0e5f-49b6-ebd3-2a1002e5f6fc"
      },
      "execution_count": 53,
      "outputs": [
        {
          "output_type": "execute_result",
          "data": {
            "text/plain": [
              "                        Year  GDP_In_Billion_USD  Per_Capita_in_USD  \\\n",
              "Year                1.000000            0.851546           0.869831   \n",
              "GDP_In_Billion_USD  0.851546            1.000000           0.998592   \n",
              "Per_Capita_in_USD   0.869831            0.998592           1.000000   \n",
              "Percentage_Growth   0.276549            0.154507           0.172981   \n",
              "\n",
              "                    Percentage_Growth   \n",
              "Year                          0.276549  \n",
              "GDP_In_Billion_USD            0.154507  \n",
              "Per_Capita_in_USD             0.172981  \n",
              "Percentage_Growth             1.000000  "
            ],
            "text/html": [
              "\n",
              "  <div id=\"df-0f1f0773-afb1-4f9b-aeae-e2b86943dc66\">\n",
              "    <div class=\"colab-df-container\">\n",
              "      <div>\n",
              "<style scoped>\n",
              "    .dataframe tbody tr th:only-of-type {\n",
              "        vertical-align: middle;\n",
              "    }\n",
              "\n",
              "    .dataframe tbody tr th {\n",
              "        vertical-align: top;\n",
              "    }\n",
              "\n",
              "    .dataframe thead th {\n",
              "        text-align: right;\n",
              "    }\n",
              "</style>\n",
              "<table border=\"1\" class=\"dataframe\">\n",
              "  <thead>\n",
              "    <tr style=\"text-align: right;\">\n",
              "      <th></th>\n",
              "      <th>Year</th>\n",
              "      <th>GDP_In_Billion_USD</th>\n",
              "      <th>Per_Capita_in_USD</th>\n",
              "      <th>Percentage_Growth</th>\n",
              "    </tr>\n",
              "  </thead>\n",
              "  <tbody>\n",
              "    <tr>\n",
              "      <th>Year</th>\n",
              "      <td>1.000000</td>\n",
              "      <td>0.851546</td>\n",
              "      <td>0.869831</td>\n",
              "      <td>0.276549</td>\n",
              "    </tr>\n",
              "    <tr>\n",
              "      <th>GDP_In_Billion_USD</th>\n",
              "      <td>0.851546</td>\n",
              "      <td>1.000000</td>\n",
              "      <td>0.998592</td>\n",
              "      <td>0.154507</td>\n",
              "    </tr>\n",
              "    <tr>\n",
              "      <th>Per_Capita_in_USD</th>\n",
              "      <td>0.869831</td>\n",
              "      <td>0.998592</td>\n",
              "      <td>1.000000</td>\n",
              "      <td>0.172981</td>\n",
              "    </tr>\n",
              "    <tr>\n",
              "      <th>Percentage_Growth</th>\n",
              "      <td>0.276549</td>\n",
              "      <td>0.154507</td>\n",
              "      <td>0.172981</td>\n",
              "      <td>1.000000</td>\n",
              "    </tr>\n",
              "  </tbody>\n",
              "</table>\n",
              "</div>\n",
              "      <button class=\"colab-df-convert\" onclick=\"convertToInteractive('df-0f1f0773-afb1-4f9b-aeae-e2b86943dc66')\"\n",
              "              title=\"Convert this dataframe to an interactive table.\"\n",
              "              style=\"display:none;\">\n",
              "        \n",
              "  <svg xmlns=\"http://www.w3.org/2000/svg\" height=\"24px\"viewBox=\"0 0 24 24\"\n",
              "       width=\"24px\">\n",
              "    <path d=\"M0 0h24v24H0V0z\" fill=\"none\"/>\n",
              "    <path d=\"M18.56 5.44l.94 2.06.94-2.06 2.06-.94-2.06-.94-.94-2.06-.94 2.06-2.06.94zm-11 1L8.5 8.5l.94-2.06 2.06-.94-2.06-.94L8.5 2.5l-.94 2.06-2.06.94zm10 10l.94 2.06.94-2.06 2.06-.94-2.06-.94-.94-2.06-.94 2.06-2.06.94z\"/><path d=\"M17.41 7.96l-1.37-1.37c-.4-.4-.92-.59-1.43-.59-.52 0-1.04.2-1.43.59L10.3 9.45l-7.72 7.72c-.78.78-.78 2.05 0 2.83L4 21.41c.39.39.9.59 1.41.59.51 0 1.02-.2 1.41-.59l7.78-7.78 2.81-2.81c.8-.78.8-2.07 0-2.86zM5.41 20L4 18.59l7.72-7.72 1.47 1.35L5.41 20z\"/>\n",
              "  </svg>\n",
              "      </button>\n",
              "      \n",
              "  <style>\n",
              "    .colab-df-container {\n",
              "      display:flex;\n",
              "      flex-wrap:wrap;\n",
              "      gap: 12px;\n",
              "    }\n",
              "\n",
              "    .colab-df-convert {\n",
              "      background-color: #E8F0FE;\n",
              "      border: none;\n",
              "      border-radius: 50%;\n",
              "      cursor: pointer;\n",
              "      display: none;\n",
              "      fill: #1967D2;\n",
              "      height: 32px;\n",
              "      padding: 0 0 0 0;\n",
              "      width: 32px;\n",
              "    }\n",
              "\n",
              "    .colab-df-convert:hover {\n",
              "      background-color: #E2EBFA;\n",
              "      box-shadow: 0px 1px 2px rgba(60, 64, 67, 0.3), 0px 1px 3px 1px rgba(60, 64, 67, 0.15);\n",
              "      fill: #174EA6;\n",
              "    }\n",
              "\n",
              "    [theme=dark] .colab-df-convert {\n",
              "      background-color: #3B4455;\n",
              "      fill: #D2E3FC;\n",
              "    }\n",
              "\n",
              "    [theme=dark] .colab-df-convert:hover {\n",
              "      background-color: #434B5C;\n",
              "      box-shadow: 0px 1px 3px 1px rgba(0, 0, 0, 0.15);\n",
              "      filter: drop-shadow(0px 1px 2px rgba(0, 0, 0, 0.3));\n",
              "      fill: #FFFFFF;\n",
              "    }\n",
              "  </style>\n",
              "\n",
              "      <script>\n",
              "        const buttonEl =\n",
              "          document.querySelector('#df-0f1f0773-afb1-4f9b-aeae-e2b86943dc66 button.colab-df-convert');\n",
              "        buttonEl.style.display =\n",
              "          google.colab.kernel.accessAllowed ? 'block' : 'none';\n",
              "\n",
              "        async function convertToInteractive(key) {\n",
              "          const element = document.querySelector('#df-0f1f0773-afb1-4f9b-aeae-e2b86943dc66');\n",
              "          const dataTable =\n",
              "            await google.colab.kernel.invokeFunction('convertToInteractive',\n",
              "                                                     [key], {});\n",
              "          if (!dataTable) return;\n",
              "\n",
              "          const docLinkHtml = 'Like what you see? Visit the ' +\n",
              "            '<a target=\"_blank\" href=https://colab.research.google.com/notebooks/data_table.ipynb>data table notebook</a>'\n",
              "            + ' to learn more about interactive tables.';\n",
              "          element.innerHTML = '';\n",
              "          dataTable['output_type'] = 'display_data';\n",
              "          await google.colab.output.renderOutput(dataTable, element);\n",
              "          const docLink = document.createElement('div');\n",
              "          docLink.innerHTML = docLinkHtml;\n",
              "          element.appendChild(docLink);\n",
              "        }\n",
              "      </script>\n",
              "    </div>\n",
              "  </div>\n",
              "  "
            ]
          },
          "metadata": {},
          "execution_count": 53
        }
      ]
    },
    {
      "cell_type": "markdown",
      "source": [
        "---\n",
        "BOXPLOT"
      ],
      "metadata": {
        "id": "-pnyaErkgcUk"
      }
    },
    {
      "cell_type": "code",
      "source": [
        "plt.figure(figsize=(20,8))\n",
        "plt.suptitle('BOX PLOT',size=20,color=\"k\")\n",
        "\n",
        "# GDP\n",
        "plt.subplot(1,3,1)\n",
        "plt.boxplot(df['GDP_In_Billion_USD'])\n",
        "plt.title('GDP_In_Billion_USD',size=20,family='serif',color = \"orange\")\n",
        "\n",
        "# Per Capita\n",
        "plt.subplot(1,3,2)\n",
        "plt.boxplot(df['Per_Capita_in_USD'])\n",
        "plt.title('Per_Capita_in_USD',size=20,family='serif',color = \"blue\")\n",
        "\n",
        "# Percentage Growth\n",
        "plt.subplot(1,3,3)\n",
        "plt.boxplot(df['Percentage_Growth '])\n",
        "plt.title('Percentage_Growth ',size=20,family='serif',color = \"green\")\n",
        "\n",
        "plt.show()"
      ],
      "metadata": {
        "colab": {
          "base_uri": "https://localhost:8080/",
          "height": 540
        },
        "id": "p1H6b9Nr8uxy",
        "outputId": "22844f3f-88bd-445e-f1ed-5bf3e165039a"
      },
      "execution_count": 54,
      "outputs": [
        {
          "output_type": "display_data",
          "data": {
            "text/plain": [
              "<Figure size 1440x576 with 3 Axes>"
            ],
            "image/png": "[encoded data removed]"
          },
          "metadata": {
            "needs_background": "light"
          }
        }
      ]
    },
    {
      "cell_type": "markdown",
      "source": [
        "\n",
        "\n",
        "> From the above `Boxplots`, the median, the IQR(Interquartile Range) and outliers can be visualised.\n",
        "\n",
        "---\n",
        "\n",
        "HISTOGRAM\n"
      ],
      "metadata": {
        "id": "A5SweQQAfKox"
      }
    },
    {
      "cell_type": "code",
      "source": [
        "df.columns"
      ],
      "metadata": {
        "colab": {
          "base_uri": "https://localhost:8080/"
        },
        "id": "png8ZnHQhUwi",
        "outputId": "7d3d6efa-4bfa-4a7c-823e-87c91d0f1ddb"
      },
      "execution_count": 55,
      "outputs": [
        {
          "output_type": "execute_result",
          "data": {
            "text/plain": [
              "Index(['Year', 'GDP_In_Billion_USD', 'Per_Capita_in_USD',\n",
              "       'Percentage_Growth '],\n",
              "      dtype='object')"
            ]
          },
          "metadata": {},
          "execution_count": 55
        }
      ]
    },
    {
      "cell_type": "code",
      "source": [
        "plt.figure(figsize=(18,5))\n",
        "plt.suptitle('HISTOGRAM',size=20,family='serif')\n",
        "\n",
        "# GDP \n",
        "plt.subplot(1,3,1)\n",
        "plt.hist(df['GDP_In_Billion_USD'],color=\"orange\")\n",
        "plt.title('GDP(in Billion USD)',color=\"orange\",size=15,family='serif')\n",
        "\n",
        "# Per Capita\n",
        "plt.subplot(1,3,2)\n",
        "plt.hist(df['Per_Capita_in_USD'],color='blue')\n",
        "plt.title('Per Capita(in USD)',color='blue',size=15,family='serif')\n",
        "\n",
        "# Percentage Growth\n",
        "plt.subplot(1,3,3)\n",
        "plt.hist(df['Percentage_Growth '],color='green')\n",
        "plt.title('Percentage Growth',color='green',size= 15,family='serif')\n",
        "\n",
        "plt.show()"
      ],
      "metadata": {
        "id": "_uyAFxesl2eS",
        "colab": {
          "base_uri": "https://localhost:8080/",
          "height": 356
        },
        "outputId": "01d60870-1128-4fc0-8fff-df432e8d1a17"
      },
      "execution_count": 56,
      "outputs": [
        {
          "output_type": "display_data",
          "data": {
            "text/plain": [
              "<Figure size 1296x360 with 3 Axes>"
            ],
            "image/png": "[encoded data removed]"
          },
          "metadata": {
            "needs_background": "light"
          }
        }
      ]
    },
    {
      "cell_type": "markdown",
      "source": [
        "> From the above `HISTOGRAM`, the values with highest and lowest frequency of particular range can be visualised.\n",
        "\n",
        "---"
      ],
      "metadata": {
        "id": "wCgL_v5rfJTS"
      }
    },
    {
      "cell_type": "markdown",
      "source": [
        "SCATTER PLOT"
      ],
      "metadata": {
        "id": "SiilJge1neBC"
      }
    },
    {
      "cell_type": "code",
      "source": [
        "# scatter plotting for 'YEAR' vs 'GDP and Per Capita'\n",
        "\n",
        "plt.figure(figsize=(18,7))\n",
        "plt.scatter(df['Year'], df['GDP_In_Billion_USD'],color='orange',marker='p')\n",
        "plt.scatter(df['Year'], df['Per_Capita_in_USD'],color='green',marker='x')\n",
        "plt.title(\"SCATTER PLOT\",size=20,family='serif')\n",
        "plt.xlabel('Year',size=15,color='blue')\n",
        "plt.ylabel('GDP and Per Capita',size=15,color='blue')\n",
        "plt.legend([\"GDP_In_Billion_USD\",'Per_Capita_in_USD'])\n",
        "plt.grid(color='blue')\n",
        "plt.show()"
      ],
      "metadata": {
        "colab": {
          "base_uri": "https://localhost:8080/",
          "height": 468
        },
        "id": "86IWdTk7ndfi",
        "outputId": "d344165c-1a68-4f5c-dcc4-393921d1d10d"
      },
      "execution_count": 57,
      "outputs": [
        {
          "output_type": "display_data",
          "data": {
            "text/plain": [
              "<Figure size 1296x504 with 1 Axes>"
            ],
            "image/png": "[encoded data removed]"
          },
          "metadata": {
            "needs_background": "light"
          }
        }
      ]
    },
    {
      "cell_type": "markdown",
      "source": [
        " > This `SCATTER PLOT` shows the relation between `YEAR` vs `GDP and Per Capita`.\n",
        "\n",
        " ---"
      ],
      "metadata": {
        "id": "JT_U-NELruPb"
      }
    },
    {
      "cell_type": "markdown",
      "source": [
        "---\n",
        "---\n",
        "\n",
        "### Conclusion\n",
        " >A dataset is imported,cleaned and visualized using `PANDAS` and `MATPLOTLIB`\n",
        "\n",
        " ---\n",
        " ---"
      ],
      "metadata": {
        "id": "4tt8u8qc13mM"
      }
    }
  ]
}